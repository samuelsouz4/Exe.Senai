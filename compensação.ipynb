{
  "nbformat": 4,
  "nbformat_minor": 0,
  "metadata": {
    "colab": {
      "provenance": [],
      "authorship_tag": "ABX9TyOnK28MDhcrodUhjw4UKuxY",
      "include_colab_link": true
    },
    "kernelspec": {
      "name": "python3",
      "display_name": "Python 3"
    },
    "language_info": {
      "name": "python"
    }
  },
  "cells": [
    {
      "cell_type": "markdown",
      "metadata": {
        "id": "view-in-github",
        "colab_type": "text"
      },
      "source": [
        "<a href=\"https://colab.research.google.com/github/samuelsouz4/Exe.Senai/blob/main/compensa%C3%A7%C3%A3o.ipynb\" target=\"_parent\"><img src=\"https://colab.research.google.com/assets/colab-badge.svg\" alt=\"Open In Colab\"/></a>"
      ]
    },
    {
      "cell_type": "code",
      "execution_count": 2,
      "metadata": {
        "colab": {
          "base_uri": "https://localhost:8080/"
        },
        "id": "fZ1HXkUlSoAu",
        "outputId": "b1419bb0-6dd5-4c75-8ad3-bc2fede9429f"
      },
      "outputs": [
        {
          "output_type": "stream",
          "name": "stdout",
          "text": [
            "Olá, meu nome é João e tenho 30 anos.\n"
          ]
        }
      ],
      "source": [
        "# 0. Classe Pessoa: Crie uma classe com os atributos nome e idade. Adicione um método que imprime uma apresentação.\n",
        "\n",
        "class Pessoa:\n",
        "    def __init__(self, nome, idade):\n",
        "        self.nome = nome\n",
        "        self.idade = idade\n",
        "\n",
        "    def apresentar(self):\n",
        "        print(f\"Olá, meu nome é {self.nome} e tenho {self.idade} anos.\")\n",
        "\n",
        "pessoa = Pessoa(\"João\", 30)\n",
        "pessoa.apresentar()\n"
      ]
    },
    {
      "cell_type": "code",
      "source": [
        "# 1. Classe Retângulo: Crie uma classe que represente um retângulo com largura e altura. Adicione métodos para calcular a área e o perímetro.\n",
        "\n",
        "class Retangulo:\n",
        "    def __init__(self, largura, altura):\n",
        "        self.largura = largura\n",
        "        self.altura = altura\n",
        "\n",
        "    def area(self):\n",
        "        return self.largura * self.altura\n",
        "\n",
        "    def perimetro(self):\n",
        "        return 2 * (self.largura + self.altura)\n",
        "\n",
        "\n",
        "retangulo = Retangulo(4, 3)\n",
        "print(f\"Área: {retangulo.area()} | Perímetro: {retangulo.perimetro()}\")\n"
      ],
      "metadata": {
        "colab": {
          "base_uri": "https://localhost:8080/"
        },
        "id": "ptR35vwZS5uB",
        "outputId": "0e3ca493-7f26-46fb-efc5-2a345c4d1d70"
      },
      "execution_count": 3,
      "outputs": [
        {
          "output_type": "stream",
          "name": "stdout",
          "text": [
            "Área: 12 | Perímetro: 14\n"
          ]
        }
      ]
    },
    {
      "cell_type": "code",
      "source": [
        "# Classe Círculo: Crie uma classe Circulo com atributo raio. Implemente métodos para calcular área e circunferência.\n",
        "\n",
        "import math\n",
        "\n",
        "class Circulo:\n",
        "    def __init__(self, raio):\n",
        "        self.raio = raio\n",
        "\n",
        "    def area(self):\n",
        "        return math.pi * (self.raio ** 2)\n",
        "\n",
        "    def circunferencia(self):\n",
        "        return 2 * math.pi * self.raio\n",
        "\n",
        "\n",
        "circulo = Circulo(5)\n",
        "print(f\"Área: {circulo.area()} | Circunferência: {circulo.circunferencia()}\")\n"
      ],
      "metadata": {
        "colab": {
          "base_uri": "https://localhost:8080/"
        },
        "id": "1Ju8ZzHsTBEV",
        "outputId": "39bcb609-5db4-4396-9778-6666e6c654c2"
      },
      "execution_count": 4,
      "outputs": [
        {
          "output_type": "stream",
          "name": "stdout",
          "text": [
            "Área: 78.53981633974483 | Circunferência: 31.41592653589793\n"
          ]
        }
      ]
    },
    {
      "cell_type": "code",
      "source": [
        "# Classe Carro: Crie uma classe com atributos marca, modelo, ano. Adicione um método descricao().\n",
        "\n",
        "class Carro:\n",
        "    def __init__(self, marca, modelo, ano):\n",
        "        self.marca = marca\n",
        "        self.modelo = modelo\n",
        "        self.ano = ano\n",
        "\n",
        "    def descricao(self):\n",
        "        return f\"{self.marca} {self.modelo} ({self.ano})\"\n",
        "\n",
        "\n",
        "carro = Carro(\"Chevrolet\", \"Celta\", 2020)\n",
        "print(carro.descricao())\n"
      ],
      "metadata": {
        "colab": {
          "base_uri": "https://localhost:8080/"
        },
        "id": "kioUknnmTGuz",
        "outputId": "65e66ba4-2e1c-4954-9981-7d0832fa84e7"
      },
      "execution_count": 6,
      "outputs": [
        {
          "output_type": "stream",
          "name": "stdout",
          "text": [
            "Chevrolet Celta (2020)\n"
          ]
        }
      ]
    },
    {
      "cell_type": "code",
      "source": [
        "# Classe Livro: Crie uma classe com título, autor, ano. Adicione um método que imprima os dados formatados.\n",
        "\n",
        "class Livro:\n",
        "    def __init__(self, titulo, autor, ano):\n",
        "        self.titulo = titulo\n",
        "        self.autor = autor\n",
        "        self.ano = ano\n",
        "\n",
        "    def imprimir_dados(self):\n",
        "        print(f\"Título: {self.titulo}\\nAutor: {self.autor}\\nAno: {self.ano}\")\n",
        "\n",
        "# Exemplo de uso\n",
        "livro = Livro(\"1984\", \"George Orwell\", 1949)\n",
        "livro.imprimir_dados()\n"
      ],
      "metadata": {
        "colab": {
          "base_uri": "https://localhost:8080/"
        },
        "id": "-Ub-YYGVTR2Y",
        "outputId": "532af54c-9f53-4e9d-c31d-81091ca4e261"
      },
      "execution_count": 7,
      "outputs": [
        {
          "output_type": "stream",
          "name": "stdout",
          "text": [
            "Título: 1984\n",
            "Autor: George Orwell\n",
            "Ano: 1949\n"
          ]
        }
      ]
    },
    {
      "cell_type": "code",
      "source": [
        "# Classe Aluno com Notas: Crie uma classe com nome e lista de notas. Implemente métodos para adicionar notas, calcular média e verificar aprovação.\n",
        "\n",
        "class Aluno:\n",
        "    def __init__(self, nome):\n",
        "        self.nome = nome\n",
        "        self.notas = []\n",
        "\n",
        "    def adicionar_nota(self, nota):\n",
        "        self.notas.append(nota)\n",
        "\n",
        "    def media(self):\n",
        "        return sum(self.notas) / len(self.notas) if self.notas else 0\n",
        "\n",
        "    def aprovado(self):\n",
        "        return self.media() >= 7\n",
        "\n",
        "aluno = Aluno(\"Maria\")\n",
        "aluno.adicionar_nota(8)\n",
        "aluno.adicionar_nota(7)\n",
        "print(f\"Média: {aluno.media()} | Aprovado: {aluno.aprovado()}\")\n"
      ],
      "metadata": {
        "colab": {
          "base_uri": "https://localhost:8080/"
        },
        "id": "tLwg2asST9rD",
        "outputId": "504c4819-51ff-43eb-af9c-4883ce9b7255"
      },
      "execution_count": 9,
      "outputs": [
        {
          "output_type": "stream",
          "name": "stdout",
          "text": [
            "Média: 7.5 | Aprovado: True\n"
          ]
        }
      ]
    },
    {
      "cell_type": "code",
      "source": [
        "# Classe Produto: Crie uma classe com nome, preço e quantidade_estoque. Adicione métodos para vender, repor e aplicar desconto.\n",
        "\n",
        "class Produto:\n",
        "    def __init__(self, nome, preco, quantidade_estoque):\n",
        "        self.nome = nome\n",
        "        self.preco = preco\n",
        "        self.quantidade_estoque = quantidade_estoque\n",
        "\n",
        "    def vender(self, quantidade):\n",
        "        if quantidade <= self.quantidade_estoque:\n",
        "            self.quantidade_estoque -= quantidade\n",
        "            return True\n",
        "        return False\n",
        "\n",
        "    def repor(self, quantidade):\n",
        "        self.quantidade_estoque += quantidade\n",
        "\n",
        "    def aplicar_desconto(self, percentual):\n",
        "        self.preco *= (1 - percentual / 100)\n",
        "\n",
        "\n",
        "produto = Produto(\"Camiseta\", 50, 100)\n",
        "produto.vender(10)\n",
        "produto.repor(20)\n",
        "produto.aplicar_desconto(10)\n",
        "print(f\"Preço: {produto.preco} | Estoque: {produto.quantidade_estoque}\")\n"
      ],
      "metadata": {
        "colab": {
          "base_uri": "https://localhost:8080/"
        },
        "id": "YyS-EvoQUHGW",
        "outputId": "db7021b1-df3e-4e14-b4ea-6c8b1197f318"
      },
      "execution_count": 11,
      "outputs": [
        {
          "output_type": "stream",
          "name": "stdout",
          "text": [
            "Preço: 45.0 | Estoque: 110\n"
          ]
        }
      ]
    },
    {
      "cell_type": "code",
      "source": [
        "# Classe ContaBancaria: Crie uma classe com métodos depositar, sacar e extrato.\n",
        "\n",
        "class ContaBancaria:\n",
        "    def __init__(self, saldo_inicial=0):\n",
        "        self.saldo = saldo_inicial\n",
        "\n",
        "    def depositar(self, valor):\n",
        "        self.saldo += valor\n",
        "\n",
        "    def sacar(self, valor):\n",
        "        if valor <= self.saldo:\n",
        "            self.saldo -= valor\n",
        "            return True\n",
        "        return False\n",
        "\n",
        "    def extrato(self):\n",
        "        return f\"Saldo atual: R${self.saldo}\"\n",
        "\n",
        "conta = ContaBancaria(2000)\n",
        "conta.depositar(400)\n",
        "conta.sacar(200)\n",
        "print(conta.extrato())\n"
      ],
      "metadata": {
        "colab": {
          "base_uri": "https://localhost:8080/"
        },
        "id": "r87clCe2UNc-",
        "outputId": "f5270e87-4d2f-42ad-8b26-97fac9b8173e"
      },
      "execution_count": 16,
      "outputs": [
        {
          "output_type": "stream",
          "name": "stdout",
          "text": [
            "Saldo atual: R$2200\n"
          ]
        }
      ]
    },
    {
      "cell_type": "code",
      "source": [
        "# Classe Elevador: A classe deve conter andar_atual, total_andares, capacidade e pessoas. Crie métodos para subir, descer, entrar e sair.\n",
        "\n",
        "class Elevador:\n",
        "    def __init__(self, total_andares, capacidade):\n",
        "        self.andar_atual = 0\n",
        "        self.total_andares = total_andares\n",
        "        self.capacidade = capacidade\n",
        "        self.pessoas = 0\n",
        "\n",
        "    def subir(self):\n",
        "        if self.andar_atual < self.total_andares - 1:\n",
        "            self.andar_atual += 1\n",
        "\n",
        "    def descer(self):\n",
        "        if self.andar_atual > 0:\n",
        "            self.andar_atual -= 1\n",
        "\n",
        "    def entrar(self, quantidade):\n",
        "        if self.pessoas + quantidade <= self.capacidade:\n",
        "            self.pessoas += quantidade\n",
        "\n",
        "    def sair(self, quantidade):\n",
        "        if self.pessoas - quantidade >= 0:\n",
        "            self.pessoas -= quantidade\n",
        "\n",
        "elevador = Elevador(10, 5)\n",
        "elevador.entrar(3)\n",
        "elevador.subir()\n",
        "print(f\"Andar atual: {elevador.andar_atual} | Pessoas: {elevador.pessoas}\")\n"
      ],
      "metadata": {
        "colab": {
          "base_uri": "https://localhost:8080/"
        },
        "id": "45BCBVPqVgg1",
        "outputId": "77ffbd94-5197-49e4-d66c-3fd51015f6b1"
      },
      "execution_count": 17,
      "outputs": [
        {
          "output_type": "stream",
          "name": "stdout",
          "text": [
            "Andar atual: 1 | Pessoas: 3\n"
          ]
        }
      ]
    },
    {
      "cell_type": "code",
      "source": [
        "#  Classe Agenda: Permita adicionar, listar e buscar contatos com nome e telefone.\n",
        "\n",
        "class Agenda:\n",
        "    def __init__(self):\n",
        "        self.contatos = {}\n",
        "\n",
        "    def adicionar_contato(self, nome, telefone):\n",
        "        self.contatos[nome] = telefone\n",
        "\n",
        "    def listar_contatos(self):\n",
        "        for nome, telefone in self.contatos.items():\n",
        "            print(f\"{nome}: {telefone}\")\n",
        "\n",
        "    def buscar_contato(self, nome):\n",
        "        return self.contatos.get(nome, \"Contato não encontrado\")\n",
        "\n",
        "\n",
        "agenda = Agenda()\n",
        "agenda.adicionar_contato(\"Carlos\", \"123456789\")\n",
        "agenda.listar_contatos()\n",
        "print(agenda.buscar_contato(\"Carlos\"))\n"
      ],
      "metadata": {
        "colab": {
          "base_uri": "https://localhost:8080/"
        },
        "id": "CTvJFBIAVnee",
        "outputId": "094494cd-76f5-4811-fcdb-2fd7e160a58b"
      },
      "execution_count": 18,
      "outputs": [
        {
          "output_type": "stream",
          "name": "stdout",
          "text": [
            "Carlos: 123456789\n",
            "123456789\n"
          ]
        }
      ]
    },
    {
      "cell_type": "code",
      "source": [
        "#  Classe Pedido com Itens: Crie uma classe que represente um pedido contendo vários produtos. Calcule o valor total.\n",
        "\n",
        "class Produto:\n",
        "    def __init__(self, nome, preco):\n",
        "        self.nome = nome\n",
        "        self.preco = preco\n",
        "\n",
        "class Pedido:\n",
        "    def __init__(self):\n",
        "        self.itens = []\n",
        "\n",
        "    def adicionar_item(self, produto, quantidade):\n",
        "        self.itens.append((produto, quantidade))\n",
        "\n",
        "    def valor_total(self):\n",
        "        return sum(produto.preco * quantidade for produto, quantidade in self.itens)\n",
        "\n",
        "\n",
        "produto1 = Produto(\"Camiseta\", 50)\n",
        "produto2 = Produto(\"Calça\", 100)\n",
        "pedido = Pedido()\n",
        "pedido.adicionar_item(produto1, 2)\n",
        "pedido.adicionar_item(produto2, 1)\n",
        "print(f\"Valor total: R${pedido.valor_total()}\")\n"
      ],
      "metadata": {
        "colab": {
          "base_uri": "https://localhost:8080/"
        },
        "id": "z1jJX1LQVzPA",
        "outputId": "5e4b986c-689e-468a-bc30-adde1f6af8e0"
      },
      "execution_count": 19,
      "outputs": [
        {
          "output_type": "stream",
          "name": "stdout",
          "text": [
            "Valor total: R$200\n"
          ]
        }
      ]
    },
    {
      "cell_type": "code",
      "source": [
        "# Classe Funcionario com Aumento Salarial: Crie atributos nome e salario. Adicione um método que aplique aumento percentual.\n",
        "\n",
        "class Funcionario:\n",
        "    def __init__(self, nome, salario):\n",
        "        self.nome = nome\n",
        "        self.salario = salario\n",
        "\n",
        "    def aplicar_aumento(self, percentual):\n",
        "        self.salario *= (1 + percentual / 100)\n",
        "\n",
        "funcionario = Funcionario(\"Ana\", 2000)\n",
        "funcionario.aplicar_aumento(10)\n",
        "print(f\"Salário após aumento: R${funcionario.salario}\")\n"
      ],
      "metadata": {
        "colab": {
          "base_uri": "https://localhost:8080/"
        },
        "id": "D8FisMZjWIL-",
        "outputId": "8d81973b-6a4a-4afb-b7af-b3f58cd682c0"
      },
      "execution_count": 20,
      "outputs": [
        {
          "output_type": "stream",
          "name": "stdout",
          "text": [
            "Salário após aumento: R$2200.0\n"
          ]
        }
      ]
    },
    {
      "cell_type": "code",
      "source": [
        "# 12. Classe Lista Encadeada: Crie uma classe de lista encadeada, com os seguintes métodos:\n",
        "# adicionar\n",
        "# remover\n",
        "\n",
        "class No:\n",
        "    def __init__(self, dado=None):\n",
        "        self.dado = dado\n",
        "        self.proximo = None\n",
        "\n",
        "class ListaEncadeada:\n",
        "    def __init__(self):\n",
        "        self.cabeca = None\n",
        "\n",
        "    def adicionar_inicio(self, dado):\n",
        "        novo_no = No(dado)\n",
        "        novo_no.proximo = self.cabeca\n",
        "        self.cabeca = novo_no\n",
        "\n",
        "    def adicionar_fim(self, dado):\n",
        "        novo_no = No(dado)\n",
        "        if not self.cabeca:\n",
        "            self.cabeca = novo_no\n",
        "            return\n",
        "        atual = self.cabeca\n",
        "        while atual.proximo:\n",
        "            atual = atual.proximo\n",
        "        atual.proximo = novo_no\n",
        "\n",
        "    def remover_inicio(self):\n",
        "        if self.cabeca:\n",
        "            self.cabeca = self.cabeca.proximo\n",
        "\n",
        "    def remover_fim(self):\n",
        "        if self.cabeca:\n",
        "            if not self.cabeca.proximo:\n",
        "                self.cabeca = None\n",
        "                return\n",
        "            atual = self.cabeca\n",
        "            while atual.proximo and atual.proximo.proximo:\n",
        "                atual = atual.proximo\n",
        "            atual.proximo = None\n",
        "\n",
        "    def imprimir_lista(self):\n",
        "        atual = self.cabeca\n",
        "        while atual:\n",
        "            print(atual.dado, end=\" -> \")\n",
        "            atual = atual.proximo\n",
        "        print(\"None\")\n",
        "\n",
        "\n",
        "lista = ListaEncadeada()\n",
        "lista.adicionar_inicio(3)\n",
        "lista.adicionar_inicio(7)\n",
        "lista.adicionar_fim(9)\n",
        "lista.imprimir_lista()  # Saída: 7 -> 3 -> 9 -> None\n",
        "lista.remover_inicio()\n",
        "lista.imprimir_lista()  # Saída: 3 -> 9 -> None\n",
        "lista.remover_fim()\n",
        "lista.imprimir_lista()  # Saída: 3 -> None\n"
      ],
      "metadata": {
        "colab": {
          "base_uri": "https://localhost:8080/"
        },
        "id": "VTEweIazWmCu",
        "outputId": "bbb31f1c-a3a0-43b8-bc6b-0c14d510d258"
      },
      "execution_count": 29,
      "outputs": [
        {
          "output_type": "stream",
          "name": "stdout",
          "text": [
            "7 -> 3 -> 9 -> None\n",
            "3 -> 9 -> None\n",
            "3 -> None\n"
          ]
        }
      ]
    }
  ]
}